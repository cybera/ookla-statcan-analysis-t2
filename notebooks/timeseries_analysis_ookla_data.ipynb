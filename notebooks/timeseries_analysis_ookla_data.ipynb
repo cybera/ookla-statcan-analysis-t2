{
 "cells": [
  {
   "cell_type": "markdown",
   "id": "4923ec2c",
   "metadata": {},
   "source": [
    "# Summary\n",
    "\n",
    "Starting point for a supervised learning model for Ookla speed tiles. The data comes from a combination of \n",
    "Ookla Open Data speed tests and Statistics Canada information, including 2016 census population data and census boundaries (shapefiles). \n"
   ]
  },
  {
   "cell_type": "code",
   "execution_count": 1,
   "id": "6e11b16f",
   "metadata": {},
   "outputs": [],
   "source": [
    "import sys\n",
    "sys.path.append(\"..\")"
   ]
  },
  {
   "cell_type": "code",
   "execution_count": 2,
   "id": "e59298bc",
   "metadata": {},
   "outputs": [],
   "source": [
    "import src.config"
   ]
  },
  {
   "cell_type": "code",
   "execution_count": 3,
   "id": "c0120861",
   "metadata": {},
   "outputs": [],
   "source": [
    "from src.datasets.loading import statcan, ookla"
   ]
  },
  {
   "cell_type": "code",
   "execution_count": 4,
   "id": "44a651b9",
   "metadata": {},
   "outputs": [],
   "source": [
    "import numpy as np \n",
    "import pandas as pd\n",
    "import geopandas as gp"
   ]
  },
  {
   "cell_type": "code",
   "execution_count": 5,
   "id": "7747ae1a",
   "metadata": {},
   "outputs": [],
   "source": [
    "from sklearn import preprocessing, pipeline, compose\n",
    "from sklearn import linear_model, model_selection, svm\n",
    "from sklearn import metrics"
   ]
  },
  {
   "cell_type": "code",
   "execution_count": 6,
   "id": "28af861b",
   "metadata": {},
   "outputs": [],
   "source": [
    "import matplotlib.pyplot as plt "
   ]
  },
  {
   "cell_type": "code",
   "execution_count": 7,
   "id": "41d22bc6-de49-4971-8ec8-dd3f31741d76",
   "metadata": {},
   "outputs": [],
   "source": [
    "def make_next_year_next_quarter(year, quarter):\n",
    "    \n",
    "    if quarter == 4:\n",
    "        next_quarter = 1\n",
    "        next_year = year + 1\n",
    "    else:\n",
    "        next_quarter = quarter + 1\n",
    "        next_year = year\n",
    "        \n",
    "    return next_year, next_quarter"
   ]
  },
  {
   "cell_type": "code",
   "execution_count": 8,
   "id": "2f33da9d",
   "metadata": {},
   "outputs": [],
   "source": [
    "def make_features_table(year, quarter):\n",
    "    \n",
    "    ookla_tiles = ookla.canada_tiles()\n",
    "    ookla_tiles['quadkey'] = ookla_tiles['quadkey'].astype(int)\n",
    "    da_pops = statcan.dissemination_areas_populations()\n",
    "    o = gp.read_file(src.config.OVERLAYS_DIR / 'tile_das_overlay') #this can take a few minutes to load.\n",
    "    tile_da_label = o.dropna(subset=['DAUID','quadkey']).sort_values(by=['quadkey','tile_frac'],ascending=False).drop_duplicates(subset='quadkey', keep='first')\n",
    "    tile_da_label['quadkey'] = tile_da_label['quadkey'].astype(int)\n",
    "    tile_da_label['DAUID'] = tile_da_label['DAUID'].astype(int)\n",
    "    #last_4_quarters = ookla.speed_data(ookla.available_files().loc[('fixed',2021,3):('fixed',2022,2)].path)\n",
    "    next_year, next_quarter = make_next_year_next_quarter(year, quarter)\n",
    "    last_4_quarters = ookla.speed_data(ookla.available_files().loc[('fixed',year,quarter):('fixed',next_year,next_quarter)].path)\n",
    "    down = last_4_quarters.groupby('quadkey').apply(lambda s:np.average(s.avg_d_kbps, weights=s.tests)).rename('avg_d_kbps')\n",
    "    up = last_4_quarters.groupby('quadkey').apply(lambda s:np.average(s.avg_u_kbps, weights=s.tests)).rename('avg_u_kbps')\n",
    "    tests = last_4_quarters.groupby('quadkey')['tests'].sum()\n",
    "    devices = last_4_quarters.groupby('quadkey')['devices'].sum()\n",
    "    last4_agg = pd.concat([down, up, tests, devices],axis=1)\n",
    "    features_table = tile_da_label.merge(da_pops, on='DAUID', how='left')\n",
    "    features_table['DAPOP'] = features_table['DAPOP'].fillna(0).astype(int)\n",
    "    del features_table['GEO_NAME']\n",
    "    features_table = pd.DataFrame(features_table)\n",
    "    del features_table['geometry']\n",
    "    features_table['POP_DENSITY'] = features_table['DAPOP']/features_table['das_area']*1000**2 #people per square kilometer\n",
    "    features_table = ookla_tiles.merge(last4_agg, on='quadkey').merge(features_table, on='quadkey')\n",
    "    pop_info = statcan.boundary('population_centres').to_crs('epsg:4326')\n",
    "    pop_info = pop_info[['PCUID', 'PCNAME', 'PCTYPE', 'PCPUID', 'PCCLASS', 'geometry']] ##removes some redundant cols from DAs\n",
    "    features_table = features_table.sjoin(pop_info, how='left')\n",
    "    del features_table['index_right']\n",
    "    features_table = features_table.sort_values(by=['PCUID','quadkey']).drop_duplicates(subset=['quadkey']) #keep tiles where overlap was true\n",
    "    \n",
    "    #Add population column\n",
    "    features_table['population_in_tile'] = features_table['tile_area'] * features_table['POP_DENSITY']/1000000\n",
    "    \n",
    "    return features_table"
   ]
  },
  {
   "cell_type": "code",
   "execution_count": 9,
   "id": "8b3682d8-c82c-4b4e-8358-7edb5788a66a",
   "metadata": {},
   "outputs": [
    {
     "name": "stderr",
     "output_type": "stream",
     "text": [
      "ERROR 1: PROJ: proj_create_from_database: Open of /opt/conda/share/proj failed\n",
      "/home/jovyan/src/datasets/loading/statcan.py:104: DtypeWarning: Columns (3,11,12,13) have mixed types. Specify dtype option on import or set low_memory=False.\n",
      "  return pd.read_csv(POP_FILE)\n"
     ]
    },
    {
     "data": {
      "text/plain": [
       "258788063.26946065"
      ]
     },
     "execution_count": 9,
     "metadata": {},
     "output_type": "execute_result"
    }
   ],
   "source": [
    "#Calculate total number of people\n",
    "features_table = make_features_table(2022,3)\n",
    "total_people = sum(features_table['POP_DENSITY'] * features_table['tile_area'])/1000000\n",
    "total_people"
   ]
  },
  {
   "cell_type": "code",
   "execution_count": 10,
   "id": "bc87223e-1263-4b3a-8edf-fbcb605d862f",
   "metadata": {},
   "outputs": [],
   "source": [
    "del features_table"
   ]
  },
  {
   "cell_type": "code",
   "execution_count": null,
   "id": "13473763-61fe-4765-8f19-19509a60ea43",
   "metadata": {},
   "outputs": [],
   "source": [
    "years = [2019, 2020, 2021, 2022]\n",
    "quarters = [1, 2, 3, 4]\n",
    "\n",
    "ts_greater_than_50 = []\n",
    "ts_less_than_50 = []\n",
    "# ts_50 = []\n",
    "# ts_10 = []\n",
    "for year in years:\n",
    "    for quarter in quarters:\n",
    "        \n",
    "        features_table = make_features_table(year, quarter)\n",
    "        \n",
    "        #'POP_DENSITY' > 50\n",
    "        ts_greater_than_50.append(features_table[features_table['avg_d_kbps'] > 50*1000]['population_in_tile'].sum()/total_people)\n",
    "        #'POP_DENSITY' < 50\n",
    "        ts_less_than_50.append(features_table[features_table['avg_d_kbps'] < 50*1000]['population_in_tile'].sum()/total_people)\n",
    "        # #'POP_DENSITY' > 50\n",
    "        # gdf = features_table[(features_table['POP_DENSITY'] <= 1000) & (features_table['POP_DENSITY'] >= 50)]\n",
    "        # ts_50.append(gdf['population_in_tile'].sum()/total_people)\n",
    "        # #'POP_DENSITY' > 10\n",
    "        # gdf = features_table[(features_table['POP_DENSITY'] <= 10)]\n",
    "        # ts_10.append(gdf['population_in_tile'].sum()/total_people)\n",
    "        \n",
    "        print('ts_greater_than_50', ts_greater_than_50)\n",
    "        print('ts_less_than_50', ts_less_than_50)"
   ]
  },
  {
   "cell_type": "code",
   "execution_count": 1,
   "id": "49c2258d-c2a1-41c5-ad78-ef47180d54b6",
   "metadata": {},
   "outputs": [
    {
     "data": {
      "text/plain": [
       "'/home/jovyan/notebooks'"
      ]
     },
     "execution_count": 1,
     "metadata": {},
     "output_type": "execute_result"
    }
   ],
   "source": [
    "pwd"
   ]
  },
  {
   "cell_type": "code",
   "execution_count": null,
   "id": "7e0c73b1-4500-4af0-88ac-732814f5b58f",
   "metadata": {},
   "outputs": [],
   "source": []
  }
 ],
 "metadata": {
  "kernelspec": {
   "display_name": "Python 3 (ipykernel)",
   "language": "python",
   "name": "python3"
  },
  "language_info": {
   "codemirror_mode": {
    "name": "ipython",
    "version": 3
   },
   "file_extension": ".py",
   "mimetype": "text/x-python",
   "name": "python",
   "nbconvert_exporter": "python",
   "pygments_lexer": "ipython3",
   "version": "3.10.6"
  },
  "vscode": {
   "interpreter": {
    "hash": "7baa5682b3ee41d95f3e6c53f6f101854543f295d881c00164f5d254f1692751"
   }
  }
 },
 "nbformat": 4,
 "nbformat_minor": 5
}
