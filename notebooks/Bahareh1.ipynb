{
 "cells": [
  {
   "cell_type": "raw",
   "id": "ed7d8c75-1558-4c44-8e5d-968e7adcc801",
   "metadata": {},
   "source": [
    "import sys\n",
    "sys.path.append('..')"
   ]
  },
  {
   "cell_type": "code",
   "execution_count": 1,
   "id": "c5b6634b-fe25-44ce-89ce-58fa3a642e8b",
   "metadata": {},
   "outputs": [],
   "source": [
    "import pandas as pd\n",
    "import geopandas as gp\n",
    "import matplotlib.pyplot as plt\n",
    "from src.datasets.loading import statcan, ookla"
   ]
  },
  {
   "cell_type": "code",
   "execution_count": 2,
   "id": "92a1ece3-52f1-411d-8d32-dcde511b3881",
   "metadata": {},
   "outputs": [
    {
     "data": {
      "text/plain": [
       "['provinces',\n",
       " 'provinces_digital',\n",
       " 'federal_electoral_districts_2013_representation_order',\n",
       " 'economic_regions',\n",
       " 'census_divisions',\n",
       " 'population_centres',\n",
       " 'population_ecumene',\n",
       " 'dissemination_areas',\n",
       " 'dissemination_blocks',\n",
       " 'census_subdivisions',\n",
       " 'designated_places',\n",
       " 'lakes_and_rivers_polygons']"
      ]
     },
     "execution_count": 2,
     "metadata": {},
     "output_type": "execute_result"
    }
   ],
   "source": [
    "statcan.boundary_names()"
   ]
  },
  {
   "cell_type": "code",
   "execution_count": 3,
   "id": "50e4a5ca-0749-45a5-8c93-74875d91fa6d",
   "metadata": {},
   "outputs": [],
   "source": [
    "# ookla.available_files()"
   ]
  },
  {
   "cell_type": "markdown",
   "id": "56c6739e-9c43-447a-830e-7c0d03273a3e",
   "metadata": {},
   "source": [
    "# Plotting of Tiles + Statistics Canda "
   ]
  },
  {
   "cell_type": "code",
   "execution_count": 4,
   "id": "851e14de-da92-4eb8-8f61-5ad45f6735aa",
   "metadata": {
    "tags": []
   },
   "outputs": [
    {
     "name": "stderr",
     "output_type": "stream",
     "text": [
      "ERROR 1: PROJ: proj_create_from_database: Open of /opt/conda/share/proj failed\n"
     ]
    }
   ],
   "source": [
    "speed_tiles = ookla.canada_speed_tiles().loc[lambda s:(s.quarter==1) & (s.year==2022)]"
   ]
  },
  {
   "cell_type": "code",
   "execution_count": 5,
   "id": "e5f9f075-e861-4232-9af3-8f23f4601c4a",
   "metadata": {},
   "outputs": [
    {
     "data": {
      "text/html": [
       "<div>\n",
       "<style scoped>\n",
       "    .dataframe tbody tr th:only-of-type {\n",
       "        vertical-align: middle;\n",
       "    }\n",
       "\n",
       "    .dataframe tbody tr th {\n",
       "        vertical-align: top;\n",
       "    }\n",
       "\n",
       "    .dataframe thead th {\n",
       "        text-align: right;\n",
       "    }\n",
       "</style>\n",
       "<table border=\"1\" class=\"dataframe\">\n",
       "  <thead>\n",
       "    <tr style=\"text-align: right;\">\n",
       "      <th></th>\n",
       "      <th>PCUID</th>\n",
       "      <th>PCNAME</th>\n",
       "      <th>PCTYPE</th>\n",
       "      <th>PCPUID</th>\n",
       "      <th>PCCLASS</th>\n",
       "      <th>PRUID</th>\n",
       "      <th>PRNAME</th>\n",
       "      <th>CMAUID</th>\n",
       "      <th>CMANAME</th>\n",
       "      <th>CMATYPE</th>\n",
       "      <th>CMAPUID</th>\n",
       "      <th>geometry</th>\n",
       "    </tr>\n",
       "  </thead>\n",
       "  <tbody>\n",
       "    <tr>\n",
       "      <th>0</th>\n",
       "      <td>0300</td>\n",
       "      <td>Fortune</td>\n",
       "      <td>4</td>\n",
       "      <td>100300</td>\n",
       "      <td>2</td>\n",
       "      <td>10</td>\n",
       "      <td>Newfoundland and Labrador / Terre-Neuve-et-Lab...</td>\n",
       "      <td>None</td>\n",
       "      <td>None</td>\n",
       "      <td>None</td>\n",
       "      <td>None</td>\n",
       "      <td>POLYGON ((8814306.340 1975116.377, 8814294.583...</td>\n",
       "    </tr>\n",
       "    <tr>\n",
       "      <th>1</th>\n",
       "      <td>0311</td>\n",
       "      <td>Gander</td>\n",
       "      <td>1</td>\n",
       "      <td>100311</td>\n",
       "      <td>2</td>\n",
       "      <td>10</td>\n",
       "      <td>Newfoundland and Labrador / Terre-Neuve-et-Lab...</td>\n",
       "      <td>011</td>\n",
       "      <td>Gander</td>\n",
       "      <td>D</td>\n",
       "      <td>10011</td>\n",
       "      <td>POLYGON ((8774241.249 2203304.440, 8774340.869...</td>\n",
       "    </tr>\n",
       "    <tr>\n",
       "      <th>2</th>\n",
       "      <td>0329</td>\n",
       "      <td>Grand Bank</td>\n",
       "      <td>4</td>\n",
       "      <td>100329</td>\n",
       "      <td>2</td>\n",
       "      <td>10</td>\n",
       "      <td>Newfoundland and Labrador / Terre-Neuve-et-Lab...</td>\n",
       "      <td>None</td>\n",
       "      <td>None</td>\n",
       "      <td>None</td>\n",
       "      <td>None</td>\n",
       "      <td>POLYGON ((8817881.080 1980819.671, 8817890.063...</td>\n",
       "    </tr>\n",
       "  </tbody>\n",
       "</table>\n",
       "</div>"
      ],
      "text/plain": [
       "  PCUID      PCNAME PCTYPE  PCPUID PCCLASS PRUID  \\\n",
       "0  0300     Fortune      4  100300       2    10   \n",
       "1  0311      Gander      1  100311       2    10   \n",
       "2  0329  Grand Bank      4  100329       2    10   \n",
       "\n",
       "                                              PRNAME CMAUID CMANAME CMATYPE  \\\n",
       "0  Newfoundland and Labrador / Terre-Neuve-et-Lab...   None    None    None   \n",
       "1  Newfoundland and Labrador / Terre-Neuve-et-Lab...    011  Gander       D   \n",
       "2  Newfoundland and Labrador / Terre-Neuve-et-Lab...   None    None    None   \n",
       "\n",
       "  CMAPUID                                           geometry  \n",
       "0    None  POLYGON ((8814306.340 1975116.377, 8814294.583...  \n",
       "1   10011  POLYGON ((8774241.249 2203304.440, 8774340.869...  \n",
       "2    None  POLYGON ((8817881.080 1980819.671, 8817890.063...  "
      ]
     },
     "execution_count": 5,
     "metadata": {},
     "output_type": "execute_result"
    }
   ],
   "source": [
    "statcan.boundary('population_centres').head(3)"
   ]
  },
  {
   "cell_type": "code",
   "execution_count": 6,
   "id": "9e0045b8-20e4-4579-87aa-609a6bf0ab47",
   "metadata": {},
   "outputs": [],
   "source": [
    "Alberta_area = statcan.boundary('census_divisions').loc[lambda s:s.PRNAME=='Alberta'].copy()"
   ]
  },
  {
   "cell_type": "markdown",
   "id": "afb91b3c-ff0e-4450-b849-50d0e4091df2",
   "metadata": {},
   "source": [
    "<!-- ## economic_regions  -->"
   ]
  },
  {
   "cell_type": "code",
   "execution_count": 7,
   "id": "1c9e9567-5660-41d4-9525-91b0693f13d0",
   "metadata": {},
   "outputs": [],
   "source": [
    "# economic_regions = statcan.boundary('economic_regions').sjoin(Alberta_area[['PRNAME','PCTYPE','PCCLASS','geometry']], how='inner')\n",
    "# del economic_regions['index_right']\n",
    "# del economic_regions['PRNAME_left']\n",
    "# #economic_regions.head()\n",
    "# economic_regions"
   ]
  },
  {
   "cell_type": "code",
   "execution_count": 8,
   "id": "65e8aa09-8afe-45cd-9f06-bfd62e7e3397",
   "metadata": {},
   "outputs": [],
   "source": [
    "# speeds = speed_tiles.sjoin(Alberta_area.to_crs('epsg:4326'), how='inner') #epsg:4326\n",
    "# speeds.head(3)\n",
    "# ax = speeds.plot(column='avg_d_kbps')\n",
    "# economic_regions.to_crs('epsg:4326').boundary.plot(ax=ax, linewidth=.5)"
   ]
  },
  {
   "cell_type": "code",
   "execution_count": 9,
   "id": "f36c7ac1-e845-4ec2-b0c8-530415cef8f0",
   "metadata": {},
   "outputs": [],
   "source": [
    "# intersection= gp.overlay(economic_regions, , how='intersection')\n",
    "# intersection.plot() "
   ]
  },
  {
   "cell_type": "markdown",
   "id": "650aa00c-5b9d-4e94-aade-1cf3dd313580",
   "metadata": {},
   "source": [
    "## census_divs"
   ]
  },
  {
   "cell_type": "code",
   "execution_count": 10,
   "id": "be74da74-2147-451a-90f3-e92b551620fc",
   "metadata": {},
   "outputs": [],
   "source": [
    "#speed_tiles = ookla.canada_speed_tiles().loc[lambda s:(s.quarter==1) & (s.year==2022)]"
   ]
  },
  {
   "cell_type": "code",
   "execution_count": 11,
   "id": "ba7b5e5a-0afd-4ac9-b1b9-8d484241a155",
   "metadata": {},
   "outputs": [],
   "source": [
    "Alberta_area = statcan.boundary('population_centres').loc[lambda s:s.PRNAME=='Alberta'].copy()"
   ]
  },
  {
   "cell_type": "code",
   "execution_count": 12,
   "id": "51202fb2-ac10-46c6-ba88-5a73c59da569",
   "metadata": {
    "tags": []
   },
   "outputs": [
    {
     "data": {
      "text/html": [
       "<div>\n",
       "<style scoped>\n",
       "    .dataframe tbody tr th:only-of-type {\n",
       "        vertical-align: middle;\n",
       "    }\n",
       "\n",
       "    .dataframe tbody tr th {\n",
       "        vertical-align: top;\n",
       "    }\n",
       "\n",
       "    .dataframe thead th {\n",
       "        text-align: right;\n",
       "    }\n",
       "</style>\n",
       "<table border=\"1\" class=\"dataframe\">\n",
       "  <thead>\n",
       "    <tr style=\"text-align: right;\">\n",
       "      <th></th>\n",
       "      <th>CDUID</th>\n",
       "      <th>CDNAME</th>\n",
       "      <th>CDTYPE</th>\n",
       "      <th>PRUID</th>\n",
       "      <th>geometry</th>\n",
       "      <th>PRNAME_right</th>\n",
       "      <th>PCTYPE</th>\n",
       "      <th>PCCLASS</th>\n",
       "    </tr>\n",
       "  </thead>\n",
       "  <tbody>\n",
       "    <tr>\n",
       "      <th>35</th>\n",
       "      <td>4815</td>\n",
       "      <td>Division No. 15</td>\n",
       "      <td>CDR</td>\n",
       "      <td>48</td>\n",
       "      <td>POLYGON ((4452472.249 2307439.651, 4453182.789...</td>\n",
       "      <td>Alberta</td>\n",
       "      <td>4</td>\n",
       "      <td>2</td>\n",
       "    </tr>\n",
       "    <tr>\n",
       "      <th>33</th>\n",
       "      <td>4813</td>\n",
       "      <td>Division No. 13</td>\n",
       "      <td>CDR</td>\n",
       "      <td>48</td>\n",
       "      <td>POLYGON ((4951972.526 2335392.157, 4948856.823...</td>\n",
       "      <td>Alberta</td>\n",
       "      <td>4</td>\n",
       "      <td>2</td>\n",
       "    </tr>\n",
       "    <tr>\n",
       "      <th>30</th>\n",
       "      <td>4810</td>\n",
       "      <td>Division No. 10</td>\n",
       "      <td>CDR</td>\n",
       "      <td>48</td>\n",
       "      <td>POLYGON ((4889307.549 2195049.694, 4889375.091...</td>\n",
       "      <td>Alberta</td>\n",
       "      <td>4</td>\n",
       "      <td>2</td>\n",
       "    </tr>\n",
       "  </tbody>\n",
       "</table>\n",
       "</div>"
      ],
      "text/plain": [
       "   CDUID           CDNAME CDTYPE PRUID  \\\n",
       "35  4815  Division No. 15    CDR    48   \n",
       "33  4813  Division No. 13    CDR    48   \n",
       "30  4810  Division No. 10    CDR    48   \n",
       "\n",
       "                                             geometry PRNAME_right PCTYPE  \\\n",
       "35  POLYGON ((4452472.249 2307439.651, 4453182.789...      Alberta      4   \n",
       "33  POLYGON ((4951972.526 2335392.157, 4948856.823...      Alberta      4   \n",
       "30  POLYGON ((4889307.549 2195049.694, 4889375.091...      Alberta      4   \n",
       "\n",
       "   PCCLASS  \n",
       "35       2  \n",
       "33       2  \n",
       "30       2  "
      ]
     },
     "execution_count": 12,
     "metadata": {},
     "output_type": "execute_result"
    }
   ],
   "source": [
    "census_divs = statcan.boundary('census_divisions').sjoin(Alberta_area[['PRNAME','PCTYPE','PCCLASS','geometry']], how='inner')\n",
    "del census_divs['index_right']\n",
    "del census_divs['PRNAME_left']\n",
    "census_divs.sample(3) "
   ]
  },
  {
   "cell_type": "code",
   "execution_count": 14,
   "id": "be96fc30-410c-40bb-8619-e9e0515d53dc",
   "metadata": {},
   "outputs": [],
   "source": [
    "Alberta = statcan.boundary('provinces').loc[lambda s:s.PRNAME=='Alberta'].copy()"
   ]
  },
  {
   "cell_type": "code",
   "execution_count": 48,
   "id": "0fb93774-1d9a-49dc-9508-76fb221564b5",
   "metadata": {},
   "outputs": [
    {
     "name": "stderr",
     "output_type": "stream",
     "text": [
      "/opt/conda/lib/python3.10/site-packages/geopandas/tools/overlay.py:53: FutureWarning: Passing 'suffixes' which cause duplicate columns {'PRUID_1'} in the result is deprecated and will raise a MergeError in a future version.\n",
      "  dfinter = dfinter.merge(\n"
     ]
    },
    {
     "data": {
      "text/plain": [
       "Text(0.5, 0.98, 'Census Divisions Average Download Speeds (kbps)')"
      ]
     },
     "execution_count": 48,
     "metadata": {},
     "output_type": "execute_result"
    },
    {
     "data": {
      "image/png": "[encoded data removed]",
      "text/plain": [
       "<Figure size 640x480 with 1 Axes>"
      ]
     },
     "metadata": {},
     "output_type": "display_data"
    }
   ],
   "source": [
    "speeds = speed_tiles.sjoin(Alberta_area.to_crs('epsg:4326'), how='inner') #epsg:4326\n",
    "speeds.head(3)\n",
    "ax = speeds.plot(column='avg_d_kbps')\n",
    "census_divs = census_divs.overlay(Alberta, how=\"intersection\", keep_geom_type=False)\n",
    "census_divs.to_crs('epsg:4326').boundary.plot(ax=ax, linewidth=0.5)\n",
    "plt.gcf().suptitle(\"Census Divisions Average Download Speeds (kbps)\")"
   ]
  },
  {
   "cell_type": "code",
   "execution_count": 40,
   "id": "83b9a153-6498-4da7-9101-71a46957173d",
   "metadata": {},
   "outputs": [],
   "source": [
    "# cliped_divs\n",
    "# speeds\n",
    "# census_divs"
   ]
  },
  {
   "cell_type": "markdown",
   "id": "6c30ed72-e21e-433d-a06b-420ad1369558",
   "metadata": {},
   "source": [
    "## population data"
   ]
  },
  {
   "cell_type": "code",
   "execution_count": 41,
   "id": "143aa3fa-d954-4fc7-8aac-52f52b4d1d7c",
   "metadata": {},
   "outputs": [
    {
     "data": {
      "text/html": [
       "<div>\n",
       "<style scoped>\n",
       "    .dataframe tbody tr th:only-of-type {\n",
       "        vertical-align: middle;\n",
       "    }\n",
       "\n",
       "    .dataframe tbody tr th {\n",
       "        vertical-align: top;\n",
       "    }\n",
       "\n",
       "    .dataframe thead th {\n",
       "        text-align: right;\n",
       "    }\n",
       "</style>\n",
       "<table border=\"1\" class=\"dataframe\">\n",
       "  <thead>\n",
       "    <tr style=\"text-align: right;\">\n",
       "      <th></th>\n",
       "      <th>CDUID</th>\n",
       "      <th>GEO_NAME</th>\n",
       "      <th>DAPOP</th>\n",
       "    </tr>\n",
       "  </thead>\n",
       "  <tbody>\n",
       "    <tr>\n",
       "      <th>254</th>\n",
       "      <td>1001</td>\n",
       "      <td>Division No. 1</td>\n",
       "      <td>270345.0</td>\n",
       "    </tr>\n",
       "    <tr>\n",
       "      <th>72644</th>\n",
       "      <td>1002</td>\n",
       "      <td>Division No. 2</td>\n",
       "      <td>20375.0</td>\n",
       "    </tr>\n",
       "    <tr>\n",
       "      <th>83820</th>\n",
       "      <td>1003</td>\n",
       "      <td>Division No. 3</td>\n",
       "      <td>15560.0</td>\n",
       "    </tr>\n",
       "    <tr>\n",
       "      <th>92075</th>\n",
       "      <td>1004</td>\n",
       "      <td>Division No. 4</td>\n",
       "      <td>20385.0</td>\n",
       "    </tr>\n",
       "    <tr>\n",
       "      <th>99568</th>\n",
       "      <td>1005</td>\n",
       "      <td>Division No. 5</td>\n",
       "      <td>42015.0</td>\n",
       "    </tr>\n",
       "  </tbody>\n",
       "</table>\n",
       "</div>"
      ],
      "text/plain": [
       "       CDUID        GEO_NAME     DAPOP\n",
       "254     1001  Division No. 1  270345.0\n",
       "72644   1002  Division No. 2   20375.0\n",
       "83820   1003  Division No. 3   15560.0\n",
       "92075   1004  Division No. 4   20385.0\n",
       "99568   1005  Division No. 5   42015.0"
      ]
     },
     "execution_count": 41,
     "metadata": {},
     "output_type": "execute_result"
    }
   ],
   "source": [
    "div_pops = statcan.census_divisions_populations()\n",
    "div_pops.DAPOP = pd.to_numeric(div_pops.DAPOP, errors='coerce') #certain divisions have data flags instead of values\n",
    "div_pops.head()"
   ]
  },
  {
   "cell_type": "code",
   "execution_count": 46,
   "id": "4e534a52-a7d6-461b-81af-39667986156d",
   "metadata": {
    "tags": []
   },
   "outputs": [
    {
     "data": {
      "text/plain": [
       "Text(0.5, 0.98, 'Census Divisions Population')"
      ]
     },
     "execution_count": 46,
     "metadata": {},
     "output_type": "execute_result"
    },
    {
     "data": {
      "image/png": "[encoded data removed]",
      "text/plain": [
       "<Figure size 640x480 with 2 Axes>"
      ]
     },
     "metadata": {},
     "output_type": "display_data"
    }
   ],
   "source": [
    "census_divs.CDUID = census_divs.CDUID.astype(int) ## coerce ID type to fully int instead of object\n",
    "census_divs_pop = census_divs.merge(div_pops, on='CDUID').plot(column='DAPOP', vmin=0, categorical=False, legend=True) # I hav removed validate='1:1'\n",
    "plt.gcf().suptitle(\"Census Divisions Population\")"
   ]
  },
  {
   "cell_type": "code",
   "execution_count": 43,
   "id": "ccacf8f0-b2b9-45e9-ab63-24329844da06",
   "metadata": {},
   "outputs": [],
   "source": [
    "# # fig, ax1 = plt.subplots(figsize=(5, 3.5))\n",
    "# # census_divs.merge(div_pops, on='CDUID').plot(ax=ax1, column='DAPOP', vmin=0, categorical=False, legend=True)\n",
    "# ax = speeds.plot(column='avg_d_kbps')\n",
    "# census_divs.merge(div_pops, on='CDUID').plot(ax=ax, column='DAPOP', vmin=0, categorical=False, legend=True)"
   ]
  },
  {
   "cell_type": "code",
   "execution_count": null,
   "id": "a88bee73-aa99-4fc3-8d1f-0c172cb56764",
   "metadata": {},
   "outputs": [],
   "source": [
    "census_divs_speeds = census_divs.merge(div_pops, on='CDUID').plot(column='DAPOP', vmin=0, categorical=False, legend=True) # I hav removed validate='1:1'"
   ]
  },
  {
   "cell_type": "markdown",
   "id": "5a7c695b-0764-4dcd-993e-f037407fee1b",
   "metadata": {},
   "source": [
    "## Statistics"
   ]
  },
  {
   "cell_type": "code",
   "execution_count": 44,
   "id": "a70f4a1a-a30e-4e30-922e-b0353143a093",
   "metadata": {},
   "outputs": [],
   "source": [
    "# census_divs_speeds = statcan.boundary('census_divisions').to_crs('epsg:4326').sjoin(speed_tiles, how='left')"
   ]
  },
  {
   "cell_type": "code",
   "execution_count": 45,
   "id": "be430187-069f-4cc4-a815-9ac7c63609f0",
   "metadata": {},
   "outputs": [],
   "source": [
    "# divs_pops = statcan.census_divisions_populations()\n",
    "# divs_pops.DAPOP = pd.to_numeric(divs_pops.DAPOP, errors='coerce') #certain subdivisions have data flags instead of values\n",
    "# divs_pops"
   ]
  },
  {
   "cell_type": "code",
   "execution_count": null,
   "id": "f0a72380-4969-4c12-b351-312b9143d98b",
   "metadata": {},
   "outputs": [],
   "source": [
    "# census_speeds_agg = (census_divs_speeds.groupby('CDUID')['avg_d_kbps'].mean()/1000).rename('avg_d_mpbs')"
   ]
  },
  {
   "cell_type": "code",
   "execution_count": null,
   "id": "a0fcf790-03f3-4161-9c36-4d0e4c606b42",
   "metadata": {},
   "outputs": [],
   "source": [
    "# statcan.boundary('census_divisions').merge(census_speeds_agg, left_on=\"CDUID\", right_index=True).plot(column='avg_d_mpbs', legend=True)\n",
    "# plt.gcf().suptitle(\"Census Divisions Average Download Speeds (Mbps)\")\n",
    "# plt.gca().set(xlabel=\"Easting (m)\", ylabel=\"Northing (m)\")"
   ]
  },
  {
   "cell_type": "code",
   "execution_count": null,
   "id": "c27ef4d9-2d8c-4a81-bed5-ca2cbd42120e",
   "metadata": {},
   "outputs": [],
   "source": []
  },
  {
   "cell_type": "code",
   "execution_count": null,
   "id": "c68d8d99-e035-4190-b600-b9cedc2dc212",
   "metadata": {},
   "outputs": [],
   "source": []
  }
 ],
 "metadata": {
  "kernelspec": {
   "display_name": "Python 3 (ipykernel)",
   "language": "python",
   "name": "python3"
  },
  "language_info": {
   "codemirror_mode": {
    "name": "ipython",
    "version": 3
   },
   "file_extension": ".py",
   "mimetype": "text/x-python",
   "name": "python",
   "nbconvert_exporter": "python",
   "pygments_lexer": "ipython3",
   "version": "3.10.6"
  }
 },
 "nbformat": 4,
 "nbformat_minor": 5
}
